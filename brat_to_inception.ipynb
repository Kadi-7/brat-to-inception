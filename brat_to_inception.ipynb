{
 "cells": [
  {
   "cell_type": "markdown",
   "source": [
    "This script converts brat annotation files to inception.\n",
    "The file typesystem.xml is mandatory and contains the description of the ADR annotation and relations\n",
    "\n",
    "Procedure:\n",
    "1 - make new inception project\n",
    "2 - import both layers (ADR_Entity, ADR_Relation) in the new inception project\n",
    "3 - import both constrains (ADR_Constrains, ADR_Relation_Constrains) in the new inception project\n",
    "4 - change the entry_folder in the script to where .txt and .ann\n",
    "5 - import the new generated .xmi documents using \"UIMA CAS XMI (XML 1.0)\""
   ],
   "metadata": {
    "collapsed": false
   }
  },
  {
   "cell_type": "code",
   "execution_count": 1,
   "outputs": [],
   "source": [
    "#TODO: multiple spans, split sentences \n",
    "#!pip install dkpro-cassis"
   ],
   "metadata": {
    "collapsed": false
   }
  },
  {
   "cell_type": "code",
   "execution_count": 2,
   "outputs": [],
   "source": [
    "entry_folder = \"/Users/abdelkaderalkadour/Desktop/DFKI/Inception+/ADR_project_entities_relations/brat_files_entities_and_relations\"\n",
    "type_file = \"./typesystem.xml\""
   ],
   "metadata": {
    "collapsed": false
   }
  },
  {
   "cell_type": "code",
   "execution_count": 3,
   "outputs": [],
   "source": [
    "from cassis import load_typesystem, Cas\n",
    "import os"
   ],
   "metadata": {
    "collapsed": false
   }
  },
  {
   "cell_type": "code",
   "execution_count": 4,
   "outputs": [],
   "source": [
    "class Attribute:\n",
    "  def __init__(self, atr):\n",
    "      self.id = atr.split(\"\\t\")[0]\n",
    "      self.type = atr.split(\"\\t\")[1].split(\" \")[0]\n",
    "      self.target = atr.split(\"\\t\")[1].split(\" \")[1]\n",
    "      if len(atr.split(\"\\t\")[1].split(\" \")) > 2: #attribute without value\n",
    "          self.value = atr.split(\"\\t\")[1].split(\" \")[2].strip()\n",
    "      else:\n",
    "          self.value = \"\"\n",
    "  def __repr__(self):\n",
    "        return \"Attribute(id='{}', type='{}', target={}, value={})\".format(self.id, self.type, self.target, self.value)\n",
    "\n",
    "class Entity:\n",
    "  def __init__(self, ann):\n",
    "      self.id = ann.split(\"\\t\")[0]\n",
    "      self.type = ann.split(\"\\t\")[1].split(\" \")[0].lower()\n",
    "\n",
    "      if len(ann.split(\"\\t\")[1].split(\" \")) > 3: #multiple spans\n",
    "          spans = ann.split(\"\\t\")[1].replace(\";\", \" \")\n",
    "          self.span = []\n",
    "          for i in range(1, len(spans.split(\" \")), 2):\n",
    "              self.span.append((int(spans.split(\" \")[i]), int(spans.split(\" \")[i+1])))\n",
    "      else:\n",
    "        self.span = [(int(ann.split(\"\\t\")[1].split(\" \")[1]), int(ann.split(\"\\t\")[1].split(\" \")[2]) )]\n",
    "\n",
    "      self.value = ann.split(\"\\t\")[2].strip()\n",
    "      self.attributes = []\n",
    "      self.relations = []\n",
    "  def __repr__(self):\n",
    "        return \"Entity(id='{}', type='{}', span={}, value='{}', attributes={}, relations={}')\".format(self.id, self.type, self.span, self.value, self.attributes, self.relations)\n",
    "\n",
    "class Relation:\n",
    "  def __init__(self, rel):\n",
    "      self.id = rel.split(\"\\t\")[0]\n",
    "      self.type = rel.split(\"\\t\")[1].split(\" \")[0]\n",
    "      self.arg1 = rel.split(\"\\t\")[1].split(\" \")[1].split(\":\")[1]\n",
    "      self.arg2 = rel.split(\"\\t\")[1].split(\" \")[2].strip().split(\":\")[1]\n",
    "\n",
    "  def __repr__(self):\n",
    "        return \"Relation(id='{}', type='{}', arg1={}, arg2={})\".format(self.id, self.type, self.arg1, self.arg2)\n"
   ],
   "metadata": {
    "collapsed": false
   }
  },
  {
   "cell_type": "code",
   "execution_count": 5,
   "outputs": [],
   "source": [
    "class BratParser:\n",
    "  def __init__(self, path):\n",
    "      annotation_content = open(path, \"r\")\n",
    "      annotation_content = annotation_content.readlines()\n",
    "      self.entities = []\n",
    "      entities = []\n",
    "      attributes = []\n",
    "      relations = []\n",
    "\n",
    "      for ann in annotation_content:\n",
    "          if ann[0] == \"A\":\n",
    "              attributes.append(Attribute(ann))\n",
    "          elif ann[0] == \"T\":\n",
    "              entities.append(Entity(ann))\n",
    "          elif ann[0] == \"R\":\n",
    "              relations.append(Relation(ann))\n",
    "\n",
    "      for att in attributes:\n",
    "          if len([ent for ent in entities if ent.id == att.target]) > 0:\n",
    "              entity = [ent for ent in entities if ent.id == att.target][0]\n",
    "              entity.attributes.append(att)\n",
    "\n",
    "      for rel in relations:\n",
    "          entity = [ent for ent in entities if ent.id == rel.arg1][0]\n",
    "          entity.relations.append(rel)\n",
    "          entity = [ent for ent in entities if ent.id == rel.arg2][0]\n",
    "          entity.relations.append(rel)\n",
    "\n",
    "      self.entities = entities\n",
    "\n",
    "  def __repr__(self):\n",
    "      return \"Entities({})\".format(self.entities)\n"
   ],
   "metadata": {
    "collapsed": false
   }
  },
  {
   "cell_type": "code",
   "execution_count": 6,
   "outputs": [
    {
     "name": "stdout",
     "output_type": "stream",
     "text": [
      "CATAFLAM.3.txt\n",
      "ARTHROTEC.112.txt\n"
     ]
    }
   ],
   "source": [
    "files = [i for i in os.listdir(entry_folder) if \".txt\" in i]\n",
    "\n",
    "def do_anno(_ann, _cas, _type):\n",
    "    if len(_ann.attributes) == 0: # no attribute\n",
    "        _cas.add(ADR(begin=_ann.span[0][0], end=_ann.span[0][1], Label=_type))\n",
    "    else:\n",
    "        for atr in _ann.attributes: # add anno. for each attribute\n",
    "            _cas.add(ADR(\n",
    "                begin=_ann.span[0][0],\n",
    "                end=_ann.span[0][1],\n",
    "                Label=_type,\n",
    "                Time=atr.value))\n",
    "\n",
    "with open(type_file, \"rb\") as f:\n",
    "    ts = load_typesystem(f)\n",
    "\n",
    "Sentence = ts.get_type(\"de.tudarmstadt.ukp.dkpro.core.api.segmentation.type.Sentence\")\n",
    "Token = ts.get_type(\"de.tudarmstadt.ukp.dkpro.core.api.segmentation.type.Token\")\n",
    "ADR = ts.get_type(\"webanno.custom.ADR_entity\")\n",
    "ADR_REL = ts.get_type(\"webanno.custom.ADR_relation\")\n",
    "\n",
    "for file in files:\n",
    "    print(file)\n",
    "    all_relations = []\n",
    "    id_relations = dict()\n",
    "\n",
    "    cas = Cas(typesystem=ts) #parse the typesystem.xmi\n",
    "    text = \"\".join(\n",
    "        open(os.path.join(entry_folder, file), \"r\").readlines()\n",
    "    ).strip()\n",
    "    cas.sofa_string = text\n",
    "\n",
    "    k = 0\n",
    "    for token in text.split(\" \"):\n",
    "        cas.add(Token(begin=k, end=k + len(token))) # add token\n",
    "        k = k + len(token)\n",
    "\n",
    "    ann_num = len(text.split(\" \")) + 2 # there are 2 ids in the beginning of the file\n",
    "    annotations = BratParser(os.path.join(entry_folder, file.replace(\"txt\", \"ann\")))\n",
    "\n",
    "    for ann in annotations.entities:\n",
    "\n",
    "\n",
    "        if ann.type == \"timex3\":\n",
    "            do_anno(ann, cas, \"time\")\n",
    "            id_relations[ann.id] = ann_num # add the id of the token to annotate the relation\n",
    "            ann_num = ann_num + 1\n",
    "            if len(ann.relations) != 0:\n",
    "                all_relations.extend(ann.relations) # add relation\n",
    "\n",
    "        elif ann.type == \"drug\":\n",
    "            do_anno(ann, cas, \"drug\")\n",
    "            id_relations[ann.id] = ann_num\n",
    "            ann_num = ann_num + 1\n",
    "            if len(ann.relations) != 0:\n",
    "                all_relations.extend(ann.relations)\n",
    "\n",
    "        elif ann.type == \"disorder\":\n",
    "            do_anno(ann, cas, \"disorder\")\n",
    "            id_relations[ann.id] = ann_num\n",
    "            ann_num = ann_num + 1\n",
    "            if len(ann.relations) != 0:\n",
    "                all_relations.extend(ann.relations)\n",
    "\n",
    "        elif ann.type == \"evaluation\":\n",
    "            do_anno(ann, cas, \"evaluation\")\n",
    "            id_relations[ann.id] = ann_num\n",
    "            ann_num = ann_num + 1\n",
    "            if len(ann.relations) != 0:\n",
    "                all_relations.extend(ann.relations)\n",
    "\n",
    "        else:\n",
    "            do_anno(ann, cas, ann.type)\n",
    "            id_relations[ann.id] = ann_num\n",
    "            ann_num = ann_num + 1\n",
    "\n",
    "\n",
    "\n",
    "    unique_relations = []\n",
    "    for i in all_relations: # get only the unique relations\n",
    "        if i.id not in [o.id for o in unique_relations]:\n",
    "            unique_relations.append(i)\n",
    "\n",
    "    for i in unique_relations:\n",
    "        cas.add(\n",
    "            ADR_REL(\n",
    "                Dependent=id_relations[i.arg1],\n",
    "                Governor=id_relations[i.arg2],\n",
    "                relation=i.type,\n",
    "            )\n",
    "        )\n",
    "\n",
    "    cas.add(Sentence(begin=0, end=len(text)))\n",
    "    cas.to_xmi(os.path.join(entry_folder, file.replace(\"txt\", \"xmi\")))\n"
   ],
   "metadata": {
    "collapsed": false
   }
  },
  {
   "cell_type": "code",
   "execution_count": 6,
   "outputs": [],
   "source": [],
   "metadata": {
    "collapsed": false
   }
  },
  {
   "cell_type": "code",
   "execution_count": null,
   "outputs": [],
   "source": [],
   "metadata": {
    "collapsed": false
   }
  }
 ],
 "metadata": {
  "kernelspec": {
   "display_name": "Python 3",
   "language": "python",
   "name": "python3"
  },
  "language_info": {
   "codemirror_mode": {
    "name": "ipython",
    "version": 2
   },
   "file_extension": ".py",
   "mimetype": "text/x-python",
   "name": "python",
   "nbconvert_exporter": "python",
   "pygments_lexer": "ipython2",
   "version": "2.7.6"
  }
 },
 "nbformat": 4,
 "nbformat_minor": 0
}
